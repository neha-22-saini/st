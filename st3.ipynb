{
 "cells": [
  {
   "cell_type": "markdown",
   "id": "ea76bc59-fff2-49cc-a15e-9a45739654f9",
   "metadata": {},
   "source": [
    "Question 1: What is hypothesis testing in statistics?"
   ]
  },
  {
   "cell_type": "markdown",
   "id": "90f98591-59ac-4a09-9293-d502d0fe7021",
   "metadata": {},
   "source": [
    "Ans. \n",
    "     Hypothesis testing in statistics is a method of making decisions or inferences about a population using data from a sample.\n",
    "\n",
    "It’s a formal process that helps us test assumptions (claims) and decide whether the observed results are due to random chance or represent actual effects.\n",
    "\n",
    "\n",
    "Key Points:\n",
    "\n",
    "Hypothesis: A statement about a population parameter (e.g., mean, proportion).\n",
    "\n",
    "Null hypothesis (H₀): The default assumption (no effect, no difference).\n",
    "Example: \"The average height of students = 165 cm.\"\n",
    "\n",
    "Alternative hypothesis (H₁ or Ha): What we want to test/prove (there is an effect/difference).\n",
    "Example: \"The average height of students ≠ 165 cm.\"\n",
    "\n",
    "Test Statistic: A numerical value (like z-score, t-score, chi-square) calculated from sample data.\n",
    "\n",
    "Significance Level (α): Threshold (commonly 0.05) to decide whether results are statistically significant.\n",
    "\n",
    "p-value: Probability of observing the sample result (or more extreme) if H₀ is true.\n",
    "\n",
    "If p ≤ α, reject H₀ → evidence supports H₁.\n",
    "\n",
    "If p > α, fail to reject H₀ → not enough evidence against H₀.\n",
    "\n",
    "Conclusion: Based on the comparison of p-value and α, we accept or reject the null hypothesis."
   ]
  },
  {
   "cell_type": "markdown",
   "id": "b7f734ce-2520-49f7-8f39-3d0de5d4a51a",
   "metadata": {},
   "source": [
    "Question 2: What is the null hypothesis, and how does it differ from the alternative\n",
    "hypothesis?"
   ]
  },
  {
   "cell_type": "markdown",
   "id": "2365652f-95f8-4108-9a9c-884e20e7beba",
   "metadata": {},
   "source": [
    "Ans.\n",
    "   Null Hypothesis (H₀):\n",
    "\n",
    "It is the default assumption or starting point in hypothesis testing.\n",
    "\n",
    "States that there is no effect, no difference, or no relationship in the population.\n",
    "\n",
    "It represents the status quo.\n",
    "\n",
    "Example: \"The average exam score of students = 70.\"\n",
    "\n",
    "Alternative Hypothesis (H₁ or Ha):\n",
    "\n",
    "It is what we want to test/prove.\n",
    "\n",
    "States that there is an effect, a difference, or a relationship.\n",
    "\n",
    "It challenges the null hypothesis.\n",
    "\n",
    "Example: \"The average exam score of students ≠ 70.\""
   ]
  },
  {
   "cell_type": "markdown",
   "id": "e9bb8b75-4861-4b28-9986-900032d622f1",
   "metadata": {},
   "source": [
    "Question 3: Explain the significance level in hypothesis testing and its role in deciding\n",
    "the outcome of a test.\n"
   ]
  },
  {
   "cell_type": "markdown",
   "id": "081038e4-442f-44ff-9db3-7802bd8720ef",
   "metadata": {},
   "source": [
    "Ans.\n",
    "\n",
    "    Significance Level (α):\n",
    "\n",
    "The significance level (α) is the probability of rejecting the null hypothesis (H₀) when it is actually true.\n",
    "\n",
    "In other words, it is the risk of making a Type I error.\n",
    "\n",
    "Common choices: 0.05 (5%), 0.01 (1%), or 0.10 (10%).\n",
    "\n",
    "Role in Hypothesis Testing:\n",
    "\n",
    "Threshold for decision-making\n",
    "\n",
    "α is compared with the p-value.\n",
    "\n",
    "If p ≤ α → Reject H₀ (evidence supports H₁).\n",
    "\n",
    "If p > α → Fail to reject H₀ (not enough evidence against H₀).\n",
    "\n",
    "Controls risk of false positives\n",
    "\n",
    "A smaller α (like 0.01) means stricter rules, reducing the chance of wrongly rejecting H₀.\n",
    "\n",
    "A larger α (like 0.10) makes it easier to reject H₀, but increases the chance of error.\n",
    "\n",
    "Example:\n",
    "\n",
    "Suppose a company claims their bulbs last 1000 hours on average (H₀).\n",
    "\n",
    "A researcher tests the claim with α = 0.05.\n",
    "\n",
    "If the test gives p = 0.03, then p < 0.05 → Reject H₀ → Evidence suggests bulbs don’t last 1000 hours.\n",
    "\n",
    "If p = 0.08, then p > 0.05 → Fail to reject H₀ → No strong evidence against the claim."
   ]
  },
  {
   "cell_type": "markdown",
   "id": "f07a4d30-58b7-41f1-b64f-bedf217cf6ff",
   "metadata": {},
   "source": [
    "Question 4: What are Type I and Type II errors? Give examples of each.\n"
   ]
  },
  {
   "cell_type": "markdown",
   "id": "015f3fbc-7a52-4c64-95cb-8f1cb41a68be",
   "metadata": {},
   "source": [
    "Ans.\n",
    "     1. Type I Error (False Positive)\n",
    "\n",
    "Occurs when we reject the null hypothesis (H₀) even though it is true.\n",
    "\n",
    "It’s like raising a false alarm.\n",
    "\n",
    "Probability of making this error = α (significance level).\n",
    "\n",
    "Example:\n",
    "A company claims a medicine is safe (H₀).\n",
    "\n",
    "If researchers conclude it is not safe (reject H₀), even though it actually is safe, they made a Type I error.\n",
    "\n",
    "2. Type II Error (False Negative)\n",
    "\n",
    "Occurs when we fail to reject the null hypothesis (H₀) even though it is false.\n",
    "\n",
    "It’s like missing a real effect.\n",
    "\n",
    "Probability of making this error = β.\n",
    "\n",
    "(The test’s power = 1 – β = probability of correctly rejecting H₀).\n",
    "\n",
    "Example:\n",
    "A new medicine actually works better than the old one (H₁ true).\n",
    "\n",
    "If researchers conclude it is not better (fail to reject H₀), they made a Type II error."
   ]
  },
  {
   "cell_type": "markdown",
   "id": "1dce6e35-d8b5-46a3-b5bf-4aa983e641b2",
   "metadata": {},
   "source": [
    "Question 5: What is the difference between a Z-test and a T-test? Explain when to use\n",
    "each."
   ]
  },
  {
   "cell_type": "markdown",
   "id": "885d0bfc-59c3-49f4-b21d-c09ad0b8fd2f",
   "metadata": {},
   "source": [
    "Ans.\n",
    "    Z-test vs T-test\n",
    "1. Z-test\n",
    "\n",
    "A parametric test used to check if sample and population means (or proportions) are different.\n",
    "\n",
    "When to use:\n",
    "\n",
    "Sample size is large (n > 30).\n",
    "\n",
    "Population variance (σ²) or standard deviation (σ) is known.\n",
    "\n",
    "Distribution: Uses standard normal distribution (Z-distribution).\n",
    "\n",
    "Example:\n",
    "Checking if the average height of 1000 students (large sample, known σ) is equal to 165 cm.\n",
    "\n",
    "2. T-test\n",
    "\n",
    "Also a parametric test, but more flexible when variance is not known.\n",
    "\n",
    "When to use:\n",
    "\n",
    "Sample size is small (n ≤ 30).\n",
    "\n",
    "Population variance (σ²) or standard deviation (σ) is unknown → use sample standard deviation (s).\n",
    "\n",
    "Distribution: Uses Student’s t-distribution (heavier tails than normal distribution).\n",
    "\n",
    "Example:\n",
    "Testing if the average score of 20 students in a class is different from 70, when population σ is unknown."
   ]
  },
  {
   "cell_type": "markdown",
   "id": "1b1a746f-724f-43d9-89a7-3be7b6d758bf",
   "metadata": {},
   "source": [
    "Question 6: Write a Python program to generate a binomial distribution with n=10 and\n",
    "p=0.5, then plot its histogram.\n",
    "(Include your Python code and output in the code box below.)\n",
    "Hint: Generate random number using random function"
   ]
  },
  {
   "cell_type": "code",
   "execution_count": 1,
   "id": "8ca2592b-847a-494b-9b61-b62a7eca27eb",
   "metadata": {},
   "outputs": [
    {
     "data": {
      "image/png": "[encoded data removed]",
      "text/plain": [
       "<Figure size 640x480 with 1 Axes>"
      ]
     },
     "metadata": {},
     "output_type": "display_data"
    }
   ],
   "source": [
    "import numpy as np\n",
    "import matplotlib.pyplot as plt\n",
    "\n",
    "# Parameters\n",
    "n = 10     # number of trials\n",
    "p = 0.5    # probability of success\n",
    "size = 1000  # number of random samples\n",
    "\n",
    "# Generate random numbers from Binomial Distribution\n",
    "data = np.random.binomial(n, p, size)\n",
    "\n",
    "# Plot histogram\n",
    "plt.hist(data, bins=range(0, n+2), edgecolor='black', align='left')\n",
    "plt.title(\"Binomial Distribution (n=10, p=0.5)\")\n",
    "plt.xlabel(\"Number of Successes\")\n",
    "plt.ylabel(\"Frequency\")\n",
    "plt.show()\n"
   ]
  },
  {
   "cell_type": "markdown",
   "id": "8c763f81-4978-403a-a08a-8862ac83f219",
   "metadata": {},
   "source": [
    "Question 7: Implement hypothesis testing using Z-statistics for a sample dataset in\n",
    "Python. Show the Python code and interpret the results.\n",
    "sample_data = [49.1, 50.2, 51.0, 48.7, 50.5, 49.8, 50.3, 50.7, 50.2, 49.6,\n",
    "50.1, 49.9, 50.8, 50.4, 48.9, 50.6, 50.0, 49.7, 50.2, 49.5,\n",
    "50.1, 50.3, 50.4, 50.5, 50.0, 50.7, 49.3, 49.8, 50.2, 50.9,\n",
    "50.3, 50.4, 50.0, 49.7, 50.5, 49.9]\n",
    "(Include your Python code and output in the code box below.)"
   ]
  },
  {
   "cell_type": "code",
   "execution_count": 3,
   "id": "c1730cd1-52f5-4906-86e2-0c5e22245b47",
   "metadata": {},
   "outputs": [
    {
     "name": "stdout",
     "output_type": "stream",
     "text": [
      "Sample Mean: 50.08888888888889\n",
      "Sample Std Dev: 0.5365379910807955\n",
      "Sample Size: 36\n",
      "Z-statistic: 0.9940271559503017\n",
      "p-value: 0.3202096468890012\n",
      "Fail to Reject H0: No significant difference from 50.\n"
     ]
    }
   ],
   "source": [
    "import numpy as np\n",
    "from scipy import stats\n",
    "\n",
    "# Sample data\n",
    "sample_data = [49.1, 50.2, 51.0, 48.7, 50.5, 49.8, 50.3, 50.7, 50.2, 49.6,\n",
    "               50.1, 49.9, 50.8, 50.4, 48.9, 50.6, 50.0, 49.7, 50.2, 49.5,\n",
    "               50.1, 50.3, 50.4, 50.5, 50.0, 50.7, 49.3, 49.8, 50.2, 50.9,\n",
    "               50.3, 50.4, 50.0, 49.7, 50.5, 49.9]\n",
    "\n",
    "# Hypothesized population mean\n",
    "mu_0 = 50  \n",
    "\n",
    "# Sample statistics\n",
    "sample_mean = np.mean(sample_data)\n",
    "sample_std = np.std(sample_data, ddof=1)   # sample standard deviation\n",
    "n = len(sample_data)\n",
    "\n",
    "# Compute Z-statistic\n",
    "z_stat = (sample_mean - mu_0) / (sample_std / np.sqrt(n))\n",
    "\n",
    "# Compute two-tailed p-value\n",
    "p_value = 2 * (1 - stats.norm.cdf(abs(z_stat)))\n",
    "\n",
    "# Output results\n",
    "print(\"Sample Mean:\", sample_mean)\n",
    "print(\"Sample Std Dev:\", sample_std)\n",
    "print(\"Sample Size:\", n)\n",
    "print(\"Z-statistic:\", z_stat)\n",
    "print(\"p-value:\", p_value)\n",
    "\n",
    "# Interpretation\n",
    "alpha = 0.05\n",
    "if p_value < alpha:\n",
    "    print(\"Reject H0: The sample mean is significantly different from 50.\")\n",
    "else:\n",
    "    print(\"Fail to Reject H0: No significant difference from 50.\")\n"
   ]
  },
  {
   "cell_type": "markdown",
   "id": "db67b263-40b0-4269-b3f6-c80ef6f9856a",
   "metadata": {},
   "source": [
    "Question 8: Write a Python script to simulate data from a normal distribution and\n",
    "calculate the 95% confidence interval for its mean. Plot the data using Matplotlib.\n",
    "(Include your Python code and output in the code box below.)"
   ]
  },
  {
   "cell_type": "code",
   "execution_count": 5,
   "id": "2331deb2-c78a-4405-9c17-010b8d50764d",
   "metadata": {},
   "outputs": [
    {
     "name": "stdout",
     "output_type": "stream",
     "text": [
      "Sample Mean: 49.48076741302953\n",
      "95% Confidence Interval: (48.59, 50.37)\n"
     ]
    },
    {
     "data": {
      "image/png": "[encoded data removed]",
      "text/plain": [
       "<Figure size 640x480 with 1 Axes>"
      ]
     },
     "metadata": {},
     "output_type": "display_data"
    }
   ],
   "source": [
    "import numpy as np\n",
    "import matplotlib.pyplot as plt\n",
    "from scipy import stats\n",
    "\n",
    "# Step 1: Simulate data from a normal distribution\n",
    "np.random.seed(42)  # for reproducibility\n",
    "mu, sigma = 50, 5   # population mean and std deviation\n",
    "n = 100             # sample size\n",
    "data = np.random.normal(mu, sigma, n)\n",
    "\n",
    "# Step 2: Calculate sample mean and standard error\n",
    "sample_mean = np.mean(data)\n",
    "sample_std = np.std(data, ddof=1)\n",
    "std_error = sample_std / np.sqrt(n)\n",
    "\n",
    "# Step 3: Compute 95% Confidence Interval\n",
    "confidence = 0.95\n",
    "alpha = 1 - confidence\n",
    "z_critical = stats.norm.ppf(1 - alpha/2)  # two-tailed z-value for 95%\n",
    "margin_of_error = z_critical * std_error\n",
    "ci_lower = sample_mean - margin_of_error\n",
    "ci_upper = sample_mean + margin_of_error\n",
    "\n",
    "# Step 4: Print results\n",
    "print(\"Sample Mean:\", sample_mean)\n",
    "print(\"95% Confidence Interval: ({:.2f}, {:.2f})\".format(ci_lower, ci_upper))\n",
    "\n",
    "# Step 5: Plot histogram of the data\n",
    "plt.hist(data, bins=15, edgecolor='black', alpha=0.7)\n",
    "plt.axvline(sample_mean, color='red', linestyle='dashed', linewidth=2, label=f\"Mean = {sample_mean:.2f}\")\n",
    "plt.axvline(ci_lower, color='green', linestyle='dotted', linewidth=2, label=f\"95% CI Lower = {ci_lower:.2f}\")\n",
    "plt.axvline(ci_upper, color='green', linestyle='dotted', linewidth=2, label=f\"95% CI Upper = {ci_upper:.2f}\")\n",
    "\n",
    "plt.title(\"Normal Distribution with 95% Confidence Interval\")\n",
    "plt.xlabel(\"Value\")\n",
    "plt.ylabel(\"Frequency\")\n",
    "plt.legend()\n",
    "plt.show()\n"
   ]
  },
  {
   "cell_type": "markdown",
   "id": "4b503c8d-309b-4d11-b76a-ab233ce3d9ae",
   "metadata": {},
   "source": [
    "Question 9: Write a Python function to calculate the Z-scores from a dataset and\n",
    "visualize the standardized data using a histogram. Explain what the Z-scores represent\n",
    "in terms of standard deviations from the mean.\n",
    "(Include your Python code and output in the code box below.)"
   ]
  },
  {
   "cell_type": "code",
   "execution_count": 7,
   "id": "604c71db-4471-4427-a785-8a10b6407d7d",
   "metadata": {},
   "outputs": [
    {
     "name": "stdout",
     "output_type": "stream",
     "text": [
      "Original Data: [10, 12, 15, 18, 20, 22, 25, 30, 35, 40]\n",
      "Mean: 22.7\n",
      "Standard Deviation: 9.855060741681008\n",
      "Z-scores: [-1.288678   -1.08573659 -0.78132446 -0.47691233 -0.27397091 -0.0710295\n",
      "  0.23338263  0.74073618  1.24808972  1.75544326]\n"
     ]
    },
    {
     "data": {
      "image/png": "[encoded data removed]",
      "text/plain": [
       "<Figure size 640x480 with 1 Axes>"
      ]
     },
     "metadata": {},
     "output_type": "display_data"
    }
   ],
   "source": [
    "import numpy as np\n",
    "import matplotlib.pyplot as plt\n",
    "\n",
    "# Function to calculate Z-scores\n",
    "def calculate_zscores(data):\n",
    "    mean = np.mean(data)\n",
    "    std_dev = np.std(data, ddof=1)  # sample standard deviation\n",
    "    z_scores = [(x - mean) / std_dev for x in data]\n",
    "    return np.array(z_scores), mean, std_dev\n",
    "\n",
    "# Example dataset\n",
    "data = [10, 12, 15, 18, 20, 22, 25, 30, 35, 40]\n",
    "\n",
    "# Calculate Z-scores\n",
    "z_scores, mean, std_dev = calculate_zscores(data)\n",
    "\n",
    "# Print results\n",
    "print(\"Original Data:\", data)\n",
    "print(\"Mean:\", mean)\n",
    "print(\"Standard Deviation:\", std_dev)\n",
    "print(\"Z-scores:\", z_scores)\n",
    "\n",
    "# Plot histogram of Z-scores\n",
    "plt.hist(z_scores, bins=7, edgecolor='black', alpha=0.7)\n",
    "plt.title(\"Histogram of Standardized Data (Z-scores)\")\n",
    "plt.xlabel(\"Z-score\")\n",
    "plt.ylabel(\"Frequency\")\n",
    "plt.axvline(0, color='red', linestyle='dashed', linewidth=2, label=\"Mean (0)\")\n",
    "plt.legend()\n",
    "plt.show()\n"
   ]
  },
  {
   "cell_type": "code",
   "execution_count": null,
   "id": "9ba1d85b-371d-4b3a-afc9-a974fe88773c",
   "metadata": {},
   "outputs": [],
   "source": []
  }
 ],
 "metadata": {
  "kernelspec": {
   "display_name": "Python 3 (ipykernel)",
   "language": "python",
   "name": "python3"
  },
  "language_info": {
   "codemirror_mode": {
    "name": "ipython",
    "version": 3
   },
   "file_extension": ".py",
   "mimetype": "text/x-python",
   "name": "python",
   "nbconvert_exporter": "python",
   "pygments_lexer": "ipython3",
   "version": "3.13.4"
  }
 },
 "nbformat": 4,
 "nbformat_minor": 5
}
